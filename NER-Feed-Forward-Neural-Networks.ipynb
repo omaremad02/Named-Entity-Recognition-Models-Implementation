{
  "cells": [
    {
      "cell_type": "markdown",
      "metadata": {
        "id": "A6czvz5VKO5M"
      },
      "source": [
        "# Notebook for Programming in Problem 3\n",
        "Welcome to the programming portion of the assignment! Each assignment throughout the semester will have a written portion and a programming portion. We will be using [Google Colab](https://colab.research.google.com/notebooks/intro.ipynb#recent=true), so if you have never used it before, take a quick look through this introduction: [Working with Google Colab](https://docs.google.com/document/d/1LlnXoOblXwW3YX-0yG_5seTXJsb3kRdMMRYqs8Qqum4/edit?usp=sharing).\n",
        "\n",
        "We'll also be programming in Python, which we will assume a basic familiarity with. Python has fantastic community support and we'll be using numerous packages for machine learning (ML) and natural language processing (NLP) tasks."
      ]
    },
    {
      "cell_type": "markdown",
      "metadata": {
        "id": "5o8HI5JqTvU5"
      },
      "source": [
        "## Learning Objectives\n",
        "In this problem, we will use [PyTorch](https://pytorch.org/) to implement feedforward neural networks (FFNNs) and long short-term memory (LSTM) for named entity recognition (NER). We will use the same dataset as in Assignment #2."
      ]
    },
    {
      "cell_type": "markdown",
      "metadata": {
        "id": "ObrHyvWvTyGZ"
      },
      "source": [
        "## Writing Code\n",
        "Look for the keyword \"TODO\" and fill in your code in the empty space.\n",
        "Feel free to change function signatures, but be careful that you might need to also change how they are called in other parts of the notebook."
      ]
    },
    {
      "cell_type": "markdown",
      "metadata": {
        "id": "3GAWytObKh4K"
      },
      "source": [
        "## Use GPUs in Colab\n",
        "\n",
        "GPUs are not strictly necessary for this assignment, but they will accerlerate your experiments and may be helpful for your final project. To enable the free GPU provided by Colab, just go to **Edit > Notebook settings** and select **GPU** as **Hardware accelerator**. To test your GPU, run the `nvidia-smi` command."
      ]
    },
    {
      "cell_type": "code",
      "execution_count": 1,
      "metadata": {
        "id": "r6YTnpgbFdMI",
        "colab": {
          "base_uri": "https://localhost:8080/"
        },
        "outputId": "25ce377b-5fdd-4372-9c1e-6757bf375c35"
      },
      "outputs": [
        {
          "output_type": "stream",
          "name": "stdout",
          "text": [
            "Tue Apr 30 16:49:51 2024       \n",
            "+---------------------------------------------------------------------------------------+\n",
            "| NVIDIA-SMI 535.104.05             Driver Version: 535.104.05   CUDA Version: 12.2     |\n",
            "|-----------------------------------------+----------------------+----------------------+\n",
            "| GPU  Name                 Persistence-M | Bus-Id        Disp.A | Volatile Uncorr. ECC |\n",
            "| Fan  Temp   Perf          Pwr:Usage/Cap |         Memory-Usage | GPU-Util  Compute M. |\n",
            "|                                         |                      |               MIG M. |\n",
            "|=========================================+======================+======================|\n",
            "|   0  Tesla T4                       Off | 00000000:00:04.0 Off |                    0 |\n",
            "| N/A   51C    P8              10W /  70W |      0MiB / 15360MiB |      0%      Default |\n",
            "|                                         |                      |                  N/A |\n",
            "+-----------------------------------------+----------------------+----------------------+\n",
            "                                                                                         \n",
            "+---------------------------------------------------------------------------------------+\n",
            "| Processes:                                                                            |\n",
            "|  GPU   GI   CI        PID   Type   Process name                            GPU Memory |\n",
            "|        ID   ID                                                             Usage      |\n",
            "|=======================================================================================|\n",
            "|  No running processes found                                                           |\n",
            "+---------------------------------------------------------------------------------------+\n"
          ]
        }
      ],
      "source": [
        "!nvidia-smi"
      ]
    },
    {
      "cell_type": "markdown",
      "metadata": {
        "id": "CbgSdkFMMa3E"
      },
      "source": [
        "You should see a table summarizing the current status of the GPU, including the model, power consumption, GPU memory usage, etc. However, Colab does not guarantee which model you will get. We tested the assignment successfully on Tesla T4 but had some problems on other GPUs. **Please make sure you get a Tesla T4** by checking the output of `nvidia-smi`. We empirically observe that you are more likely to get a T4 **with your Princeton account**.\n",
        "\n",
        "If you are still unable to get a T4. You have 3 options:\n",
        "1. Reload the page until you get one.\n",
        "2. Proceed with other GPUs. They should work as long as Colab does not crash when executing code.\n",
        "3. Disable the GPU and use the CPU for this assignment, which is totally fine."
      ]
    },
    {
      "cell_type": "markdown",
      "metadata": {
        "id": "26HdExpsKTOg"
      },
      "source": [
        "## Learning PyTorch\n",
        "\n",
        "This assignment assumes basic familiarity with [PyTorch](https://pytorch.org/), which is a much needed skill for the upcoming Assignment #4, for the final project, and even beyond this course. If you aren't familiar with PyTorch, don't worry, it's a great time to start now! Here are some resources to help you get started. You may also find plenty of them online.\n",
        "\n",
        "* We will cover PyTorch in the precept on 3/18. Watch the video on Canvas if you are not able to make it.\n",
        "* [Deep Learning with PyTorch: A 60 Minute Blitz](https://pytorch.org/tutorials/beginner/deep_learning_60min_blitz.html)\n",
        "* [Learning PyTorch with Examples](https://pytorch.org/tutorials/beginner/pytorch_with_examples.html)\n"
      ]
    },
    {
      "cell_type": "markdown",
      "metadata": {
        "id": "tnYMKJlKNXYe"
      },
      "source": [
        "## Installing PyTorch and Other Packages\n",
        "\n",
        "Install PyTorch using pip. See [https://pytorch.org/](https://pytorch.org/) if you want to install it on your computer."
      ]
    },
    {
      "cell_type": "code",
      "execution_count": 2,
      "metadata": {
        "id": "-dRVuiP_JVdT",
        "colab": {
          "base_uri": "https://localhost:8080/"
        },
        "outputId": "e36b9472-2335-4923-cfdd-8ad74dd86507"
      },
      "outputs": [
        {
          "output_type": "stream",
          "name": "stdout",
          "text": [
            "Looking in links: https://download.pytorch.org/whl/torch_stable.html\n",
            "Requirement already satisfied: torch in /usr/local/lib/python3.10/dist-packages (2.2.1+cu121)\n",
            "Requirement already satisfied: torchtext in /usr/local/lib/python3.10/dist-packages (0.17.1)\n",
            "Requirement already satisfied: filelock in /usr/local/lib/python3.10/dist-packages (from torch) (3.13.4)\n",
            "Requirement already satisfied: typing-extensions>=4.8.0 in /usr/local/lib/python3.10/dist-packages (from torch) (4.11.0)\n",
            "Requirement already satisfied: sympy in /usr/local/lib/python3.10/dist-packages (from torch) (1.12)\n",
            "Requirement already satisfied: networkx in /usr/local/lib/python3.10/dist-packages (from torch) (3.3)\n",
            "Requirement already satisfied: jinja2 in /usr/local/lib/python3.10/dist-packages (from torch) (3.1.3)\n",
            "Requirement already satisfied: fsspec in /usr/local/lib/python3.10/dist-packages (from torch) (2023.6.0)\n",
            "Collecting nvidia-cuda-nvrtc-cu12==12.1.105 (from torch)\n",
            "  Using cached nvidia_cuda_nvrtc_cu12-12.1.105-py3-none-manylinux1_x86_64.whl (23.7 MB)\n",
            "Collecting nvidia-cuda-runtime-cu12==12.1.105 (from torch)\n",
            "  Using cached nvidia_cuda_runtime_cu12-12.1.105-py3-none-manylinux1_x86_64.whl (823 kB)\n",
            "Collecting nvidia-cuda-cupti-cu12==12.1.105 (from torch)\n",
            "  Using cached nvidia_cuda_cupti_cu12-12.1.105-py3-none-manylinux1_x86_64.whl (14.1 MB)\n",
            "Collecting nvidia-cudnn-cu12==8.9.2.26 (from torch)\n",
            "  Using cached nvidia_cudnn_cu12-8.9.2.26-py3-none-manylinux1_x86_64.whl (731.7 MB)\n",
            "Collecting nvidia-cublas-cu12==12.1.3.1 (from torch)\n",
            "  Using cached nvidia_cublas_cu12-12.1.3.1-py3-none-manylinux1_x86_64.whl (410.6 MB)\n",
            "Collecting nvidia-cufft-cu12==11.0.2.54 (from torch)\n",
            "  Using cached nvidia_cufft_cu12-11.0.2.54-py3-none-manylinux1_x86_64.whl (121.6 MB)\n",
            "Collecting nvidia-curand-cu12==10.3.2.106 (from torch)\n",
            "  Using cached nvidia_curand_cu12-10.3.2.106-py3-none-manylinux1_x86_64.whl (56.5 MB)\n",
            "Collecting nvidia-cusolver-cu12==11.4.5.107 (from torch)\n",
            "  Using cached nvidia_cusolver_cu12-11.4.5.107-py3-none-manylinux1_x86_64.whl (124.2 MB)\n",
            "Collecting nvidia-cusparse-cu12==12.1.0.106 (from torch)\n",
            "  Using cached nvidia_cusparse_cu12-12.1.0.106-py3-none-manylinux1_x86_64.whl (196.0 MB)\n",
            "Collecting nvidia-nccl-cu12==2.19.3 (from torch)\n",
            "  Using cached nvidia_nccl_cu12-2.19.3-py3-none-manylinux1_x86_64.whl (166.0 MB)\n",
            "Collecting nvidia-nvtx-cu12==12.1.105 (from torch)\n",
            "  Using cached nvidia_nvtx_cu12-12.1.105-py3-none-manylinux1_x86_64.whl (99 kB)\n",
            "Requirement already satisfied: triton==2.2.0 in /usr/local/lib/python3.10/dist-packages (from torch) (2.2.0)\n",
            "Collecting nvidia-nvjitlink-cu12 (from nvidia-cusolver-cu12==11.4.5.107->torch)\n",
            "  Using cached nvidia_nvjitlink_cu12-12.4.127-py3-none-manylinux2014_x86_64.whl (21.1 MB)\n",
            "Requirement already satisfied: tqdm in /usr/local/lib/python3.10/dist-packages (from torchtext) (4.66.2)\n",
            "Requirement already satisfied: requests in /usr/local/lib/python3.10/dist-packages (from torchtext) (2.31.0)\n",
            "Requirement already satisfied: numpy in /usr/local/lib/python3.10/dist-packages (from torchtext) (1.25.2)\n",
            "Requirement already satisfied: torchdata==0.7.1 in /usr/local/lib/python3.10/dist-packages (from torchtext) (0.7.1)\n",
            "Requirement already satisfied: urllib3>=1.25 in /usr/local/lib/python3.10/dist-packages (from torchdata==0.7.1->torchtext) (2.0.7)\n",
            "Requirement already satisfied: MarkupSafe>=2.0 in /usr/local/lib/python3.10/dist-packages (from jinja2->torch) (2.1.5)\n",
            "Requirement already satisfied: charset-normalizer<4,>=2 in /usr/local/lib/python3.10/dist-packages (from requests->torchtext) (3.3.2)\n",
            "Requirement already satisfied: idna<4,>=2.5 in /usr/local/lib/python3.10/dist-packages (from requests->torchtext) (3.7)\n",
            "Requirement already satisfied: certifi>=2017.4.17 in /usr/local/lib/python3.10/dist-packages (from requests->torchtext) (2024.2.2)\n",
            "Requirement already satisfied: mpmath>=0.19 in /usr/local/lib/python3.10/dist-packages (from sympy->torch) (1.3.0)\n",
            "Installing collected packages: nvidia-nvtx-cu12, nvidia-nvjitlink-cu12, nvidia-nccl-cu12, nvidia-curand-cu12, nvidia-cufft-cu12, nvidia-cuda-runtime-cu12, nvidia-cuda-nvrtc-cu12, nvidia-cuda-cupti-cu12, nvidia-cublas-cu12, nvidia-cusparse-cu12, nvidia-cudnn-cu12, nvidia-cusolver-cu12\n",
            "Successfully installed nvidia-cublas-cu12-12.1.3.1 nvidia-cuda-cupti-cu12-12.1.105 nvidia-cuda-nvrtc-cu12-12.1.105 nvidia-cuda-runtime-cu12-12.1.105 nvidia-cudnn-cu12-8.9.2.26 nvidia-cufft-cu12-11.0.2.54 nvidia-curand-cu12-10.3.2.106 nvidia-cusolver-cu12-11.4.5.107 nvidia-cusparse-cu12-12.1.0.106 nvidia-nccl-cu12-2.19.3 nvidia-nvjitlink-cu12-12.4.127 nvidia-nvtx-cu12-12.1.105\n"
          ]
        }
      ],
      "source": [
        "!pip install torch torchtext -f https://download.pytorch.org/whl/torch_stable.html"
      ]
    },
    {
      "cell_type": "markdown",
      "metadata": {
        "id": "TPsFH637OpLy"
      },
      "source": [
        "Test if our installation works:"
      ]
    },
    {
      "cell_type": "code",
      "execution_count": 3,
      "metadata": {
        "id": "c62StNb2NvKk",
        "colab": {
          "base_uri": "https://localhost:8080/"
        },
        "outputId": "e717853d-3a23-43ba-fcff-1126f637de33"
      },
      "outputs": [
        {
          "output_type": "stream",
          "name": "stdout",
          "text": [
            "PyTorch successfully installed!\n",
            "Version: 2.2.1+cu121\n"
          ]
        }
      ],
      "source": [
        "import torch\n",
        "\n",
        "# Multiply two matrices on GPU\n",
        "a = torch.rand(100, 200).cuda()\n",
        "b = torch.rand(200, 100).cuda()\n",
        "c = torch.matmul(a, b)\n",
        "\n",
        "print(\"PyTorch successfully installed!\")\n",
        "print(\"Version:\", torch.__version__)"
      ]
    },
    {
      "cell_type": "markdown",
      "metadata": {
        "id": "1qaC8sxcqkGX"
      },
      "source": [
        "Also install [scikit-learn](https://scikit-learn.org/stable/). We will use it for calculating evaluation metrics such as accuracy and F1 score."
      ]
    },
    {
      "cell_type": "code",
      "execution_count": 4,
      "metadata": {
        "id": "i5Y2xB_uqqM9",
        "colab": {
          "base_uri": "https://localhost:8080/"
        },
        "outputId": "8e4e3d3f-4dd1-45d7-f545-00d50edebfd4"
      },
      "outputs": [
        {
          "output_type": "stream",
          "name": "stdout",
          "text": [
            "Requirement already satisfied: scikit-learn in /usr/local/lib/python3.10/dist-packages (1.2.2)\n",
            "Collecting scikit-learn\n",
            "  Downloading scikit_learn-1.4.2-cp310-cp310-manylinux_2_17_x86_64.manylinux2014_x86_64.whl (12.1 MB)\n",
            "\u001b[2K     \u001b[90m━━━━━━━━━━━━━━━━━━━━━━━━━━━━━━━━━━━━━━━━\u001b[0m \u001b[32m12.1/12.1 MB\u001b[0m \u001b[31m39.8 MB/s\u001b[0m eta \u001b[36m0:00:00\u001b[0m\n",
            "\u001b[?25hRequirement already satisfied: numpy>=1.19.5 in /usr/local/lib/python3.10/dist-packages (from scikit-learn) (1.25.2)\n",
            "Requirement already satisfied: scipy>=1.6.0 in /usr/local/lib/python3.10/dist-packages (from scikit-learn) (1.11.4)\n",
            "Requirement already satisfied: joblib>=1.2.0 in /usr/local/lib/python3.10/dist-packages (from scikit-learn) (1.4.0)\n",
            "Requirement already satisfied: threadpoolctl>=2.0.0 in /usr/local/lib/python3.10/dist-packages (from scikit-learn) (3.4.0)\n",
            "Installing collected packages: scikit-learn\n",
            "  Attempting uninstall: scikit-learn\n",
            "    Found existing installation: scikit-learn 1.2.2\n",
            "    Uninstalling scikit-learn-1.2.2:\n",
            "      Successfully uninstalled scikit-learn-1.2.2\n",
            "Successfully installed scikit-learn-1.4.2\n"
          ]
        }
      ],
      "source": [
        "!pip install -U scikit-learn"
      ]
    },
    {
      "cell_type": "markdown",
      "metadata": {
        "id": "bhV4CYivRbt4"
      },
      "source": [
        "Let's import all the packages at once:"
      ]
    },
    {
      "cell_type": "code",
      "execution_count": 5,
      "metadata": {
        "id": "EjRM4cCFRh-d"
      },
      "outputs": [],
      "source": [
        "import torch\n",
        "import torch.nn as nn\n",
        "import torch.optim as optim\n",
        "import torch.nn.functional as F\n",
        "from torch.utils.data import Dataset, DataLoader\n",
        "from torchtext.vocab import Vocab, vocab\n",
        "import numpy as np\n",
        "from sklearn.metrics import accuracy_score, f1_score, confusion_matrix\n",
        "import re\n",
        "from collections import Counter\n",
        "from typing import List, Tuple, Dict, Optional, Any"
      ]
    },
    {
      "cell_type": "markdown",
      "metadata": {
        "id": "Yn1bIPjAN-9V"
      },
      "source": [
        "## Feedforward Neural Network (FFNN)"
      ]
    },
    {
      "cell_type": "markdown",
      "metadata": {
        "id": "sJOKIneRTrTH"
      },
      "source": [
        "### Data Loading\n",
        "\n",
        "We will use the same dataset for named entity recognition in Assignment #2. First download the data and take a look at the first 50 lines:"
      ]
    },
    {
      "cell_type": "code",
      "execution_count": 6,
      "metadata": {
        "id": "lWqz7kDxSqeb",
        "colab": {
          "base_uri": "https://localhost:8080/"
        },
        "outputId": "9eb313ca-c523-4ff2-df7d-64d4ba7a6704"
      },
      "outputs": [
        {
          "output_type": "stream",
          "name": "stdout",
          "text": [
            "EU NNP I-NP ORG\n",
            "rejects VBZ I-VP O\n",
            "German JJ I-NP MISC\n",
            "call NN I-NP O\n",
            "to TO I-VP O\n",
            "boycott VB I-VP O\n",
            "British JJ I-NP MISC\n",
            "lamb NN I-NP O\n",
            ". . O O\n",
            "\n",
            "Peter NNP I-NP PER\n",
            "Blackburn NNP I-NP PER\n",
            "\n",
            "BRUSSELS NNP I-NP LOC\n",
            "1996-08-22 CD I-NP O\n",
            "\n",
            "The DT I-NP O\n",
            "European NNP I-NP ORG\n",
            "Commission NNP I-NP ORG\n",
            "said VBD I-VP O\n",
            "on IN I-PP O\n",
            "Thursday NNP I-NP O\n",
            "it PRP B-NP O\n",
            "disagreed VBD I-VP O\n",
            "with IN I-PP O\n",
            "German JJ I-NP MISC\n",
            "advice NN I-NP O\n",
            "to TO I-PP O\n",
            "consumers NNS I-NP O\n",
            "to TO I-VP O\n",
            "shun VB I-VP O\n",
            "British JJ I-NP MISC\n",
            "lamb NN I-NP O\n",
            "until IN I-SBAR O\n",
            "scientists NNS I-NP O\n",
            "determine VBP I-VP O\n",
            "whether IN I-SBAR O\n",
            "mad JJ I-NP O\n",
            "cow NN I-NP O\n",
            "disease NN I-NP O\n",
            "can MD I-VP O\n",
            "be VB I-VP O\n",
            "transmitted VBN I-VP O\n",
            "to TO I-PP O\n",
            "sheep NN I-NP O\n",
            ". . O O\n",
            "\n",
            "Germany NNP I-NP LOC\n",
            "'s POS B-NP O\n",
            "representative NN I-NP O\n"
          ]
        }
      ],
      "source": [
        "!wget --quiet https://princeton-nlp.github.io/cos484/assignments/a2/eng.train\n",
        "!wget --quiet https://princeton-nlp.github.io/cos484/assignments/a2/eng.val\n",
        "!cat eng.train | head -n 50"
      ]
    },
    {
      "cell_type": "markdown",
      "metadata": {
        "id": "YVt1a6nzWsiF"
      },
      "source": [
        "Each line corresponds to a word. Different sentences are separated by an additional line break. Take \"EU NNP I-NP ORG\" as an example. \"EU\" is a word. \"NNP\" and \"I-NP\" are tags for POS tagging and chunking, which we will ignore. \"ORG\" is the tag for NER, which is our prediction target. There are 5 possible values for the NER tag: ORG, PER, LOC, MISC, and O.\n",
        "\n"
      ]
    },
    {
      "cell_type": "markdown",
      "metadata": {
        "id": "ooQEJEafWCcd"
      },
      "source": [
        "First, we write a dataloader for loading the dataset into mini-batches used for training the model. See [torch.utils.data](https://pytorch.org/docs/stable/data.html) for how dataloaders work in PyTorch. In short, we typically need to do two things:\n",
        "1. Define a [map-style dataset](https://pytorch.org/docs/stable/data.html#map-style-datasets) by subclassing [Dataset](https://pytorch.org/docs/stable/data.html#torch.utils.data.Dataset) and overriding 3 methods: `__init__`, `__getitem__`, and `__len__`.\n",
        "1. Create a [Dataloader](https://pytorch.org/docs/stable/data.html#torch.utils.data.Dataset) by calling its constructor. We have to specify the dataset and a few hyperparameters such as batch size.\n",
        "\n",
        "Most of the work has been done by us. As a simple exercise, try to understand the code and implement `__len__`."
      ]
    },
    {
      "cell_type": "code",
      "execution_count": 7,
      "metadata": {
        "id": "WnNfOBUYJvVW"
      },
      "outputs": [],
      "source": [
        "# A sentence is a list of (word, tag) tuples.\n",
        "# For example, [(\"hello\", \"O\"), (\"world\", \"O\"), (\"!\", \"O\")]\n",
        "Sentence = List[Tuple[str, str]]\n",
        "\n",
        "\n",
        "def read_data_file(\n",
        "    datapath: str,\n",
        ") -> Tuple[List[Sentence], Dict[str, int], Dict[str, int]]:\n",
        "    \"\"\"\n",
        "    Read and preprocess input data from the file `datapath`.\n",
        "    Example:\n",
        "    ```\n",
        "        sentences, word_cnt, tag_cnt = read_data_file(\"eng.train\")\n",
        "    ```\n",
        "    Return values:\n",
        "        `sentences`: a list of sentences, including words and NER tags\n",
        "        `word_cnt`: a Counter object, the number of occurrences of each word\n",
        "        `tag_cnt`: a Counter object, the number of occurences of each NER tag\n",
        "    \"\"\"\n",
        "    sentences: List[Sentence] = []\n",
        "    word_cnt: Dict[str, int] = Counter()\n",
        "    tag_cnt: Dict[str, int] = Counter()\n",
        "\n",
        "    for sentence_txt in open(datapath).read().split(\"\\n\\n\"):\n",
        "        if \"DOCSTART\" in sentence_txt:\n",
        "            # Ignore dummy sentences at the begining of each document.\n",
        "            continue\n",
        "        # Read a new sentence\n",
        "        sentences.append([])\n",
        "        for token in sentence_txt.split(\"\\n\"):\n",
        "            w, _, _, t = token.split()\n",
        "            # Replace all digits with \"0\" to reduce out-of-vocabulary words\n",
        "            w = re.sub(\"\\d\", \"0\", w)\n",
        "            word_cnt[w] += 1\n",
        "            tag_cnt[t] += 1\n",
        "            sentences[-1].append((w, t))\n",
        "\n",
        "    return sentences, word_cnt, tag_cnt\n",
        "\n"
      ]
    },
    {
      "cell_type": "markdown",
      "metadata": {
        "id": "zFVnIjA8KEe0"
      },
      "source": [
        "## Implement the `__len__` function below **(1 point)**"
      ]
    },
    {
      "cell_type": "code",
      "execution_count": 8,
      "metadata": {
        "id": "9RGv1K0pP1bR"
      },
      "outputs": [],
      "source": [
        "\n",
        "class FixedWindowDataset(Dataset):\n",
        "    \"\"\"\n",
        "    Each data example is a word, its NER tag (the target), and a fixed window centered around it (the input).\n",
        "    \"\"\"\n",
        "\n",
        "    def __init__(\n",
        "        self,\n",
        "        datapath: str,\n",
        "        window_size: int,\n",
        "        words_vocab: Optional[Vocab] = None,\n",
        "        tags_vocab: Optional[Vocab] = None,\n",
        "    ) -> None:\n",
        "        \"\"\"\n",
        "        Initialize the dataset by reading from datapath.\n",
        "        \"\"\"\n",
        "        super().__init__()\n",
        "        self.examples = []\n",
        "        START = \"<START>\"\n",
        "        END = \"<END>\"\n",
        "        UNKNOWN = \"<UNKNOWN>\"\n",
        "\n",
        "        print(\"Loading data from %s\" % datapath)\n",
        "        sentences, word_cnt, tag_cnt = read_data_file(datapath)\n",
        "\n",
        "        # Extract windows\n",
        "        for sent in sentences:\n",
        "            words = [START for _ in range(window_size)]\n",
        "            tags = [None for _ in range(window_size)]\n",
        "            for w, t in sent:\n",
        "                words.append(w)\n",
        "                tags.append(t)\n",
        "            words.extend([END for _ in range(window_size)])\n",
        "            tags.extend([None for _ in range(window_size)])\n",
        "\n",
        "            for i, t in enumerate(tags[window_size:-window_size], start=window_size):\n",
        "                self.examples.append(\n",
        "                    {\n",
        "                        \"word\": words[i],\n",
        "                        \"tag\": t,\n",
        "                        \"context\": words[i - window_size : i + window_size + 1],\n",
        "                    }\n",
        "                )\n",
        "\n",
        "        print(\"%d examples loaded.\" % len(self.examples))\n",
        "\n",
        "        # set vocabs\n",
        "        if words_vocab is None:\n",
        "            words_vocab = vocab(word_cnt, specials=[START, END, UNKNOWN]) # automatically create a vocabulary from words in dataset\n",
        "            words_vocab.set_default_index(words_vocab[UNKNOWN])\n",
        "        self.words_vocab = words_vocab\n",
        "        self.unknown_idx = self.words_vocab[UNKNOWN]\n",
        "        self.start_idx = self.words_vocab[START]\n",
        "        self.end_idx = self.words_vocab[END]\n",
        "\n",
        "        if tags_vocab is None:\n",
        "            tags_vocab = vocab(tag_cnt, specials=[]) # automatically create tags vocabulary from tags in dataset\n",
        "        self.tags_vocab = tags_vocab\n",
        "\n",
        "    def __getitem__(self, idx: int) -> Dict[str, Any]:\n",
        "        \"\"\"\n",
        "        Get the idx'th example in the dataset.\n",
        "        Convert words and the tag to indexes.\n",
        "        \"\"\"\n",
        "        example = self.examples[idx]\n",
        "        word = example[\"word\"]\n",
        "        tag = example[\"tag\"]\n",
        "        context = example[\"context\"]\n",
        "        return {\n",
        "            \"word\": word,\n",
        "            \"word_idx\": self.words_vocab[word],\n",
        "            \"tag\": tag,\n",
        "            \"tag_idx\": self.tags_vocab[tag],\n",
        "            \"context\": context,\n",
        "            \"context_idxs\": torch.tensor(\n",
        "                [self.words_vocab[w] for w in context]\n",
        "            ),\n",
        "        }\n",
        "\n",
        "    def __len__(self) -> int:\n",
        "        \"\"\"\n",
        "        Return the number of examples in the dataset.\n",
        "        \"\"\"\n",
        "        # TODO: Implement this method\n",
        "        # START HERE\n",
        "        return len(self.examples)\n",
        "        # END\n",
        "\n",
        "\n"
      ]
    },
    {
      "cell_type": "code",
      "execution_count": 9,
      "metadata": {
        "id": "F-aHcN5yJyoa"
      },
      "outputs": [],
      "source": [
        "def create_fixed_window_dataloaders(\n",
        "    batch_size: int, window_size: int, shuffle: bool = True\n",
        ") -> Tuple[DataLoader, DataLoader, Dict[str, Vocab]]:\n",
        "    \"\"\"\n",
        "    Create the dataloaders for training and validaiton.\n",
        "    \"\"\"\n",
        "    ds_train = FixedWindowDataset(\"eng.train\", window_size)\n",
        "    # Re-use the vocabulary of the training data\n",
        "    ds_val = FixedWindowDataset(\"eng.val\", window_size, words_vocab=ds_train.words_vocab, tags_vocab=ds_train.tags_vocab)\n",
        "    loader_train = DataLoader(\n",
        "        ds_train, batch_size, shuffle, drop_last=True, pin_memory=True\n",
        "    )\n",
        "    loader_val = DataLoader(ds_val, batch_size, pin_memory=True)\n",
        "    return loader_train, loader_val, ds_train"
      ]
    },
    {
      "cell_type": "markdown",
      "metadata": {
        "id": "ODfPyQjPSmCv"
      },
      "source": [
        "Let's test our dataloader. Try to understand the output, as it will save your time later."
      ]
    },
    {
      "cell_type": "code",
      "execution_count": 10,
      "metadata": {
        "id": "Zmt9c9svgzy8",
        "colab": {
          "base_uri": "https://localhost:8080/"
        },
        "outputId": "2a4874a5-a259-463f-deb0-0263d328821c"
      },
      "outputs": [
        {
          "output_type": "stream",
          "name": "stdout",
          "text": [
            "Loading data from eng.train\n",
            "203621 examples loaded.\n",
            "Loading data from eng.val\n",
            "49086 examples loaded.\n",
            "Iterating on the training data..\n",
            "{'word': ['EU', 'rejects', 'German'], 'word_idx': tensor([3, 4, 5]), 'tag': ['ORG', 'O', 'MISC'], 'tag_idx': tensor([0, 1, 2]), 'context': [['<START>', '<START>', 'EU'], ['<START>', 'EU', 'rejects'], ['EU', 'rejects', 'German'], ['rejects', 'German', 'call'], ['German', 'call', 'to']], 'context_idxs': tensor([[0, 0, 3, 4, 5],\n",
            "        [0, 3, 4, 5, 6],\n",
            "        [3, 4, 5, 6, 7]])}\n",
            "5\n",
            "torch.Size([3, 5])\n",
            "Done!\n"
          ]
        }
      ],
      "source": [
        "def check_fixed_window_dataloader() -> None:\n",
        "    loader_train, _, _ = create_fixed_window_dataloaders(\n",
        "        batch_size=3, window_size=2, shuffle=False\n",
        "    )\n",
        "    print(\"Iterating on the training data..\")\n",
        "    for i, data_batch in enumerate(loader_train):\n",
        "        if i == 0:\n",
        "            print(data_batch)\n",
        "            print(len(data_batch[\"context\"]))\n",
        "            print(data_batch[\"context_idxs\"].shape)\n",
        "    print(\"Done!\")\n",
        "\n",
        "\n",
        "check_fixed_window_dataloader()"
      ]
    },
    {
      "cell_type": "markdown",
      "metadata": {
        "id": "hR_aJ-FincuN"
      },
      "source": [
        "### Implement the Model **(4 points)**   \n",
        "\n",
        "Next, let's implement feedforward neural networks following the description of Problem 1 in Assignment #3.\n",
        "\n",
        "Models in PyTorch are subclasses of [torch.nn.Module](https://pytorch.org/docs/stable/generated/torch.nn.Module.html#torch.nn.Module). You have to override `__init__` for initializing the model and `forward` for calculating the forward pass. Checkout this [tutorial](https://pytorch.org/tutorials/beginner/nn_tutorial.html#) if you are not sure how torch.nn.Module works.\n",
        "\n",
        "PyTorch provides a wide array of [neural network layers](https://pytorch.org/docs/stable/nn.html) as building blocks for your model. Here are some of them that may be relevant:\n",
        "* [nn.Embedding](https://pytorch.org/docs/stable/generated/torch.nn.Embedding.html#torch.nn.Embedding)\n",
        "* [nn.Linear](https://pytorch.org/docs/stable/generated/torch.nn.Linear.html#torch.nn.Linear)\n",
        "* [torch.sigmoid](https://pytorch.org/docs/stable/generated/torch.sigmoid.html#torch.sigmoid) or [nn.Sigmoid](https://pytorch.org/docs/stable/generated/torch.nn.Sigmoid.html#torch.nn.Sigmoid)\n",
        "\n",
        "Note a difference with Problem 3 of Assignment #2 is that we do not apply softmax when calculatinng $\\hat{y}^{(t)}$. Instead, we leave what softmax does to the loss function [F.cross_entropy](https://pytorch.org/docs/stable/nn.functional.html#torch.nn.functional.cross_entropy). For details, please see its difference with [F.nll_loss](https://pytorch.org/docs/stable/nn.functional.html#torch.nn.functional.nll_loss)."
      ]
    },
    {
      "cell_type": "code",
      "execution_count": 11,
      "metadata": {
        "id": "Hx0oMgVffSD1"
      },
      "outputs": [],
      "source": [
        "class FFNN(nn.Module):\n",
        "    \"\"\"\n",
        "    Feedforward Neural Networks for NER\n",
        "    \"\"\"\n",
        "\n",
        "    def __init__(\n",
        "        self, words_vocab: Vocab, tags_vocab: Vocab, window_size: int, d_emb: int, d_hidden: int\n",
        "    ) -> None:\n",
        "        \"\"\"\n",
        "        Initialize a two-layer feedforward neural network with sigmoid activation.\n",
        "        Parameters:\n",
        "            `words_vocab`: vocabulary of words\n",
        "            `tags_vocab`: vocabulary of tags\n",
        "            `window_size`: size of the context window (w in Problem 3 of Assignment #2)\n",
        "            `d_emb`: dimension of word embeddings (D in Problem 3 of Assignment #2)\n",
        "            `d_hidden`: dimension of the hidden layer (H in Problem 3 of Assignment #2)\n",
        "        \"\"\"\n",
        "        super().__init__()\n",
        "        # TODO: Create the word embeddings (nn.Embedding),\n",
        "        #       the hidden layer and the output layer (nn.Linear).\n",
        "        # START HERE\n",
        "        # Create word embeddings\n",
        "        self.word_embeddings = nn.Embedding(len(words_vocab), d_emb)\n",
        "\n",
        "        # Hidden layer\n",
        "        self.hidden_layer = nn.Linear((2 * window_size + 1) * d_emb, d_hidden)\n",
        "\n",
        "        # Output layer\n",
        "        self.output_layer = nn.Linear(d_hidden, len(tags_vocab))\n",
        "        # END\n",
        "\n",
        "    def forward(self, context_idxs: torch.Tensor) -> torch.Tensor:\n",
        "        \"\"\"\n",
        "        Given the word indexes in a context window, predict the logits of the NER tag.\n",
        "        Parameters:\n",
        "            `context_idxs`: a batch_size x (2 * window_size + 1) tensor\n",
        "                          context_idxs[i] contains word indexes in the window of the i'th data example.\n",
        "        Return values:\n",
        "            `logits`: a batch_size x 5 tensor (\\hat{y}^{(t)} in Problem 3 of Assignment #2, without softmax)\n",
        "                    logits[i][j] is the output score (before softmax) of the i'th example for tag j.\n",
        "        \"\"\"\n",
        "        # TODO: Implement the forward pass of the two-layer FFNN with sigmoid hidden layer.\n",
        "        #       Do not apply softmax, since we will use F.cross_entropy as the loss function.\n",
        "        # START HERE\n",
        "        # Create word embeddings\n",
        "        embeddings = self.word_embeddings(context_idxs)\n",
        "\n",
        "        # Flatten the embeddings\n",
        "        embeddings_flat = embeddings.view(embeddings.size(0), -1)\n",
        "\n",
        "        # Pass through the hidden layer with sigmoid activation\n",
        "        hidden_output = torch.sigmoid(self.hidden_layer(embeddings_flat))\n",
        "\n",
        "        # Pass through the output layer\n",
        "        logits = self.output_layer(hidden_output)\n",
        "        # END\n",
        "        return logits"
      ]
    },
    {
      "cell_type": "markdown",
      "metadata": {
        "id": "CyZCvfOMR7YP"
      },
      "source": [
        "Optionally, let's do a simple sanity check of your implementation. In `check_ffnn`, we load a batch of data examples and pass it through the FFNN."
      ]
    },
    {
      "cell_type": "code",
      "execution_count": 12,
      "metadata": {
        "id": "WLMGYSZ7KxzP"
      },
      "outputs": [],
      "source": [
        "# Some helper code\n",
        "def get_device() -> torch.device:\n",
        "    \"\"\"\n",
        "    Use GPU when it is available; use CPU otherwise.\n",
        "    See https://pytorch.org/docs/stable/notes/cuda.html#device-agnostic-code\n",
        "    \"\"\"\n",
        "    return torch.device(\"cuda\") if torch.cuda.is_available() else torch.device(\"cpu\")\n"
      ]
    },
    {
      "cell_type": "code",
      "execution_count": 13,
      "metadata": {
        "id": "H7jikP_1fZP-",
        "colab": {
          "base_uri": "https://localhost:8080/"
        },
        "outputId": "473648a0-53fa-4e99-f723-9e49565b018e"
      },
      "outputs": [
        {
          "output_type": "stream",
          "name": "stdout",
          "text": [
            "Loading data from eng.train\n",
            "203621 examples loaded.\n",
            "Loading data from eng.val\n",
            "49086 examples loaded.\n",
            "FFNN(\n",
            "  (word_embeddings): Embedding(20103, 64)\n",
            "  (hidden_layer): Linear(in_features=448, out_features=128, bias=True)\n",
            "  (output_layer): Linear(in_features=128, out_features=5, bias=True)\n",
            ")\n",
            "Input tensor shape: torch.Size([3, 7])\n",
            "Output tensor shape: torch.Size([3, 5])\n"
          ]
        }
      ],
      "source": [
        "def check_ffnn() -> None:\n",
        "  # Hyperparameters\n",
        "  batch_size = 3\n",
        "  d_emb = 64\n",
        "  d_hidden = 128\n",
        "  window_size = 3\n",
        "  # Create the dataloaders and the model\n",
        "  loader_train, _, ds_train = create_fixed_window_dataloaders(batch_size, window_size)\n",
        "  model = FFNN(ds_train.words_vocab, ds_train.tags_vocab, window_size, d_emb, d_hidden)\n",
        "  device = get_device()\n",
        "  model.to(device)\n",
        "  print(model)\n",
        "  # Get the first batch\n",
        "  data_batch = next(iter(loader_train))\n",
        "  # Move data to GPU\n",
        "  context_idxs = data_batch[\"context_idxs\"].to(device, non_blocking=True)\n",
        "  tag_idx = data_batch[\"tag_idx\"].to(device, non_blocking=True)\n",
        "  # Calculate the model\n",
        "  print(\"Input tensor shape:\", context_idxs.size())\n",
        "  logits = model(context_idxs)\n",
        "  print(\"Output tensor shape:\", logits.size())\n",
        "\n",
        "check_ffnn()"
      ]
    },
    {
      "cell_type": "code",
      "execution_count": 14,
      "metadata": {
        "id": "PkRIOgeXIng0",
        "colab": {
          "base_uri": "https://localhost:8080/"
        },
        "outputId": "9f2273d1-4c92-486c-fa23-301dbf07bca2"
      },
      "outputs": [
        {
          "output_type": "stream",
          "name": "stdout",
          "text": [
            "Loading data from eng.train\n",
            "203621 examples loaded.\n"
          ]
        }
      ],
      "source": [
        "ds_train = FixedWindowDataset(\"eng.train\", 3)"
      ]
    },
    {
      "cell_type": "markdown",
      "metadata": {
        "id": "a0angAnEno9v"
      },
      "source": [
        "### Training and Validation  **(4 points)**   \n",
        "\n",
        "Having implemented the model, the next step is to implement functions for training and validation."
      ]
    },
    {
      "cell_type": "code",
      "execution_count": 15,
      "metadata": {
        "id": "vWcKwiIMjekY"
      },
      "outputs": [],
      "source": [
        "def eval_metrics(ground_truth: List[int], predictions: List[int]) -> Dict[str, Any]:\n",
        "    \"\"\"\n",
        "    Calculate various evaluation metrics such as accuracy and F1 score\n",
        "    Parameters:\n",
        "        `ground_truth`: the list of ground truth NER tags\n",
        "        `predictions`: the list of predicted NER tags\n",
        "    \"\"\"\n",
        "    f1_scores = f1_score(ground_truth, predictions, average=None)\n",
        "    return {\n",
        "        \"accuracy\": accuracy_score(ground_truth, predictions),\n",
        "        \"f1\": f1_scores,\n",
        "        \"average f1\": np.mean(f1_scores),\n",
        "        \"confusion matrix\": confusion_matrix(ground_truth, predictions),\n",
        "    }\n",
        "\n",
        "\n",
        "def train_ffnn(\n",
        "    model: nn.Module,\n",
        "    loader: DataLoader,\n",
        "    optimizer: optim.Optimizer,\n",
        "    device: torch.device,\n",
        "    silent: bool = False,  # whether to print the training loss\n",
        ") -> Tuple[float, Dict[str, Any]]:\n",
        "    \"\"\"\n",
        "    Train the FFNN model.\n",
        "    Return values:\n",
        "        1. the average training loss\n",
        "        2. training metrics such as accuracy and F1 score\n",
        "    \"\"\"\n",
        "    model.train()\n",
        "    ground_truth = []\n",
        "    predictions = []\n",
        "    losses = []\n",
        "    report_interval = 100\n",
        "\n",
        "    for i, data_batch in enumerate(loader):\n",
        "        context_idxs = data_batch[\"context_idxs\"].to(device, non_blocking=True)\n",
        "        tag_idx = data_batch[\"tag_idx\"].to(device, non_blocking=True)\n",
        "\n",
        "        # TODO:\n",
        "        # 1. Perform the forward pass to calculate the model's output. Save it to the variable \"logits\".\n",
        "        # 2. Calculate the loss using the output and the ground truth tags. Save it to the variable \"loss\".\n",
        "        # 3. Perform the backward pass to calculate the gradient.\n",
        "        # 4. Use the optimizer to update model parameters.\n",
        "        # Caveat: You may need to call optimizer.zero_grad(). Figure out what it does!\n",
        "        # START HERE\n",
        "\n",
        "        # Perform the forward pass to calculate the model's output\n",
        "        logits = model(context_idxs)\n",
        "\n",
        "        # Calculate the loss using the output and the ground truth tags\n",
        "        loss = F.cross_entropy(logits, tag_idx)\n",
        "\n",
        "        # Perform the backward pass to calculate the gradient\n",
        "        optimizer.zero_grad()\n",
        "        loss.backward()\n",
        "\n",
        "        # Use the optimizer to update model parameters\n",
        "        optimizer.step()\n",
        "\n",
        "        # END\n",
        "\n",
        "        losses.append(loss.item())\n",
        "        ground_truth.extend(tag_idx.tolist())\n",
        "        predictions.extend(logits.argmax(dim=-1).tolist())\n",
        "\n",
        "        if not silent and i > 0 and i % report_interval == 0:\n",
        "            print(\n",
        "                \"\\t[%06d/%06d] Loss: %f\"\n",
        "                % (i, len(loader), np.mean(losses[-report_interval:]))\n",
        "            )\n",
        "\n",
        "    return np.mean(losses), eval_metrics(ground_truth, predictions)\n",
        "\n",
        "\n",
        "def validate_ffnn(\n",
        "    model: nn.Module, loader: DataLoader, device: torch.device\n",
        ") -> Tuple[float, Dict[str, Any]]:\n",
        "    \"\"\"\n",
        "    Validate the FFNN model.\n",
        "    Return values:\n",
        "        1. the average validation loss\n",
        "        2. validation metrics such as accuracy and F1 score\n",
        "    \"\"\"\n",
        "    model.eval()\n",
        "    ground_truth = []\n",
        "    predictions = []\n",
        "    losses = []\n",
        "\n",
        "    with torch.no_grad():\n",
        "\n",
        "        for data_batch in loader:\n",
        "            context_idxs = data_batch[\"context_idxs\"].to(device, non_blocking=True)\n",
        "            tag_idx = data_batch[\"tag_idx\"].to(device, non_blocking=True)\n",
        "\n",
        "            # TODO: Similar to what you did in train_ffnn, but only step 1 and 2.\n",
        "            # START HERE\n",
        "            # Perform the forward pass to calculate the model's output\n",
        "            logits = model(context_idxs)\n",
        "\n",
        "            # Calculate the loss using the output and the ground truth tags\n",
        "            loss = F.cross_entropy(logits, tag_idx)\n",
        "\n",
        "            # Append the loss to the list of losses\n",
        "            losses.append(loss.item())\n",
        "\n",
        "            # Extend the ground_truth list with the ground truth tags\n",
        "            ground_truth.extend(tag_idx.tolist())\n",
        "\n",
        "            # Extend the predictions list with the predicted tags\n",
        "            predictions.extend(logits.argmax(dim=-1).tolist())\n",
        "\n",
        "            # END\n",
        "\n",
        "            losses.append(loss.item())\n",
        "            ground_truth.extend(tag_idx.tolist())\n",
        "            predictions.extend(logits.argmax(dim=-1).tolist())\n",
        "\n",
        "    return np.mean(losses), eval_metrics(ground_truth, predictions)\n",
        "\n",
        "\n",
        "def train_val_loop_ffnn(hyperparams: Dict[str, Any]) -> None:\n",
        "    \"\"\"\n",
        "    Train and validate the FFNN model for a number of epochs.\n",
        "    \"\"\"\n",
        "    print(\"Hyperparameters:\", hyperparams)\n",
        "    # Create the dataloaders\n",
        "    loader_train, loader_val, ds_train = create_fixed_window_dataloaders(\n",
        "        hyperparams[\"batch_size\"], hyperparams[\"window_size\"]\n",
        "    )\n",
        "    # Create the model\n",
        "    model = FFNN(\n",
        "        ds_train.words_vocab,\n",
        "        ds_train.tags_vocab,\n",
        "        hyperparams[\"window_size\"],\n",
        "        hyperparams[\"d_emb\"],\n",
        "        hyperparams[\"d_hidden\"],\n",
        "    )\n",
        "    device = get_device()\n",
        "    model.to(device)\n",
        "    print(model)\n",
        "    # Create the optimizer\n",
        "    optimizer = optim.RMSprop(\n",
        "        model.parameters(), hyperparams[\"learning_rate\"], weight_decay=hyperparams[\"l2\"]\n",
        "    )\n",
        "\n",
        "    # Train and validate\n",
        "    for i in range(hyperparams[\"num_epochs\"]):\n",
        "        print(\"Epoch #%d\" % i)\n",
        "\n",
        "        print(\"Training..\")\n",
        "        loss_train, metrics_train = train_ffnn(\n",
        "            model, loader_train, optimizer, device, silent=True\n",
        "        )\n",
        "        print(\"Training loss: \", loss_train)\n",
        "        print(\"Training metrics:\")\n",
        "        for k, v in metrics_train.items():\n",
        "            print(\"\\t\", k, \": \", v)\n",
        "\n",
        "        print(\"Validating..\")\n",
        "        loss_val, metrics_val = validate_ffnn(model, loader_val, device)\n",
        "        print(\"Validation loss: \", loss_val)\n",
        "        print(\"Validation metrics:\")\n",
        "        for k, v in metrics_val.items():\n",
        "            print(\"\\t\", k, \": \", v)\n",
        "\n",
        "    print(\"Done!\")"
      ]
    },
    {
      "cell_type": "markdown",
      "metadata": {
        "id": "FbuC7sYHX3Wl"
      },
      "source": [
        "We are ready to run experiments! Let's train the model for 5 epochs, with `window_size=2`. After each epoch, we perform validation and print the evaluation metrics."
      ]
    },
    {
      "cell_type": "code",
      "execution_count": 16,
      "metadata": {
        "id": "5ZTOFj9NXl65",
        "colab": {
          "base_uri": "https://localhost:8080/"
        },
        "outputId": "9ceed783-e164-4f66-b391-60f7b320bba5"
      },
      "outputs": [
        {
          "output_type": "stream",
          "name": "stdout",
          "text": [
            "Hyperparameters: {'batch_size': 512, 'd_emb': 64, 'd_hidden': 128, 'window_size': 2, 'num_epochs': 5, 'learning_rate': 0.01, 'l2': 1e-06}\n",
            "Loading data from eng.train\n",
            "203621 examples loaded.\n",
            "Loading data from eng.val\n",
            "49086 examples loaded.\n",
            "FFNN(\n",
            "  (word_embeddings): Embedding(20103, 64)\n",
            "  (hidden_layer): Linear(in_features=320, out_features=128, bias=True)\n",
            "  (output_layer): Linear(in_features=128, out_features=5, bias=True)\n",
            ")\n",
            "Epoch #0\n",
            "Training..\n",
            "Training loss:  0.1848645307386402\n",
            "Training metrics:\n",
            "\t accuracy :  0.9470147197732998\n",
            "\t f1 :  [0.74930801 0.97675232 0.69340828 0.83315443 0.81154822]\n",
            "\t average f1 :  0.8128342516367167\n",
            "\t confusion matrix :  [[  6903   2082    183    426    415]\n",
            " [   670 167556    178    594    290]\n",
            " [   248   1250   2714    155    217]\n",
            " [   286   1672     56   8926    168]\n",
            " [   309   1240    113    218   6395]]\n",
            "Validating..\n",
            "Validation loss:  0.1300890428101411\n",
            "Validation metrics:\n",
            "\t accuracy :  0.9611701910931834\n",
            "\t f1 :  [0.79429463 0.98470148 0.73855244 0.88       0.87913223]\n",
            "\t average f1 :  0.8553361553068353\n",
            "\t confusion matrix :  [[ 3564   490   128   124   194]\n",
            " [  380 81294   324   222   108]\n",
            " [   70   336  1500    64    44]\n",
            " [  282   442    14  4598    44]\n",
            " [  178   224    82    62  3404]]\n",
            "Epoch #1\n",
            "Training..\n",
            "Training loss:  0.03426865962749202\n",
            "Training metrics:\n",
            "\t accuracy :  0.9901753384760705\n",
            "\t f1 :  [0.94011163 0.9968011  0.92628774 0.98293792 0.95916395]\n",
            "\t average f1 :  0.961060467577212\n",
            "\t confusion matrix :  [[  9348    312    101     67    177]\n",
            " [   204 168891     84     62     50]\n",
            " [   112    204   4172     24     72]\n",
            " [    60     76     15  10917     37]\n",
            " [   158     92     52     38   7939]]\n",
            "Validating..\n",
            "Validation loss:  0.15993188757541552\n",
            "Validation metrics:\n",
            "\t accuracy :  0.9574012956851241\n",
            "\t f1 :  [0.74964525 0.98366413 0.79843663 0.85851319 0.86313066]\n",
            "\t average f1 :  0.8506779701564315\n",
            "\t confusion matrix :  [[ 3698   480    48    88   186]\n",
            " [  694 81230    62   170   172]\n",
            " [  148   362  1430    36    38]\n",
            " [  480   556     0  4296    48]\n",
            " [  346   202    28    38  3336]]\n",
            "Epoch #2\n",
            "Training..\n",
            "Training loss:  0.0222970843303395\n",
            "Training metrics:\n",
            "\t accuracy :  0.9933879093198993\n",
            "\t f1 :  [0.9656661  0.99733746 0.96185556 0.98400541 0.9758162 ]\n",
            "\t average f1 :  0.9769361444671336\n",
            "\t confusion matrix :  [[  9619    210     40     43     87]\n",
            " [   146 168936     69     88     53]\n",
            " [    41    123   4375     12     33]\n",
            " [    36    131      5  10920     19]\n",
            " [    81     82     24     21   8070]]\n",
            "Validating..\n",
            "Validation loss:  0.16827752708377375\n",
            "Validation metrics:\n",
            "\t accuracy :  0.9635537627836858\n",
            "\t f1 :  [0.81339713 0.9840104  0.79436326 0.8745881  0.88894641]\n",
            "\t average f1 :  0.8710610604028574\n",
            "\t confusion matrix :  [[ 3400   682    90   168   160]\n",
            " [  178 81726   144   170   110]\n",
            " [   54   384  1522    30    24]\n",
            " [   82   722    16  4512    48]\n",
            " [  146   266    46    58  3434]]\n",
            "Epoch #3\n",
            "Training..\n",
            "Training loss:  0.021670582466137123\n",
            "Training metrics:\n",
            "\t accuracy :  0.9933042742443325\n",
            "\t f1 :  [0.96747315 0.99716906 0.9647369  0.98116608 0.97728371]\n",
            "\t average f1 :  0.9775657800479338\n",
            "\t confusion matrix :  [[  9637    208     27     54     77]\n",
            " [   136 168899     70    111     63]\n",
            " [    33    129   4391     11     23]\n",
            " [    43    154      9  10888     17]\n",
            " [    70     88     19     19   8088]]\n",
            "Validating..\n",
            "Validation loss:  0.1654858799320209\n",
            "Validation metrics:\n",
            "\t accuracy :  0.9650205761316872\n",
            "\t f1 :  [0.81476122 0.98478135 0.80314961 0.88742492 0.8857582 ]\n",
            "\t average f1 :  0.8751750577284507\n",
            "\t confusion matrix :  [[ 3378   710    84   134   194]\n",
            " [  130 81792   118   146   142]\n",
            " [   32   392  1530    28    32]\n",
            " [  114   644    10  4580    32]\n",
            " [  138   246    54    54  3458]]\n",
            "Epoch #4\n",
            "Training..\n",
            "Training loss:  0.018396535021503943\n",
            "Training metrics:\n",
            "\t accuracy :  0.9942931360201511\n",
            "\t f1 :  [0.97111678 0.99764117 0.96724006 0.98614558 0.97956222]\n",
            "\t average f1 :  0.9803411628120499\n",
            "\t confusion matrix :  [[  9700    177     36     35     59]\n",
            " [   130 168964     65     66     54]\n",
            " [    34    111   4414      7     22]\n",
            " [    41    113      7  10926     19]\n",
            " [    65     83     17     19   8100]]\n",
            "Validating..\n",
            "Validation loss:  0.16200093195584486\n",
            "Validation metrics:\n",
            "\t accuracy :  0.9654687690991322\n",
            "\t f1 :  [0.8140965  0.98573015 0.79055118 0.88776655 0.89044289]\n",
            "\t average f1 :  0.8737174556206933\n",
            "\t confusion matrix :  [[ 3442   594    90   202   172]\n",
            " [  218 81650   144   220    96]\n",
            " [   60   354  1506    58    36]\n",
            " [  104   496     4  4746    30]\n",
            " [  132   242    52    86  3438]]\n",
            "Done!\n"
          ]
        }
      ],
      "source": [
        "train_val_loop_ffnn(\n",
        "    {\n",
        "        \"batch_size\": 512,\n",
        "        \"d_emb\": 64,\n",
        "        \"d_hidden\": 128,\n",
        "        \"window_size\": 2,\n",
        "        \"num_epochs\": 5,\n",
        "        \"learning_rate\": 0.01,\n",
        "        \"l2\": 1e-6,\n",
        "    }\n",
        ")"
      ]
    },
    {
      "cell_type": "markdown",
      "metadata": {
        "id": "h52XPGEg7JOu"
      },
      "source": [
        "Please re-run with `window_size=1`. How does the final performance change?"
      ]
    },
    {
      "cell_type": "code",
      "execution_count": 17,
      "metadata": {
        "id": "TvikQAmC2aW1",
        "colab": {
          "base_uri": "https://localhost:8080/"
        },
        "outputId": "84094a32-893c-4da4-d6b1-7ca005d999ad"
      },
      "outputs": [
        {
          "output_type": "stream",
          "name": "stdout",
          "text": [
            "Hyperparameters: {'batch_size': 512, 'd_emb': 64, 'd_hidden': 128, 'window_size': 1, 'num_epochs': 5, 'learning_rate': 0.01, 'l2': 1e-06}\n",
            "Loading data from eng.train\n",
            "203621 examples loaded.\n",
            "Loading data from eng.val\n",
            "49086 examples loaded.\n",
            "FFNN(\n",
            "  (word_embeddings): Embedding(20103, 64)\n",
            "  (hidden_layer): Linear(in_features=192, out_features=128, bias=True)\n",
            "  (output_layer): Linear(in_features=128, out_features=5, bias=True)\n",
            ")\n",
            "Epoch #0\n",
            "Training..\n",
            "Training loss:  0.18286661901781032\n",
            "Training metrics:\n",
            "\t accuracy :  0.945528967254408\n",
            "\t f1 :  [0.73129722 0.97708052 0.70752932 0.8266129  0.79599975]\n",
            "\t average f1 :  0.8077039439752903\n",
            "\t confusion matrix :  [[  6872   1968    205    421    543]\n",
            " [   825 167412    168    567    294]\n",
            " [   319   1134   2805    149    183]\n",
            " [   310   1746     37   8815    205]\n",
            " [   459   1152    124    263   6288]]\n",
            "Validating..\n",
            "Validation loss:  0.14152250483554477\n",
            "Validation metrics:\n",
            "\t accuracy :  0.9579920955058469\n",
            "\t f1 :  [0.77955272 0.98266896 0.77173303 0.84726821 0.85436893]\n",
            "\t average f1 :  0.847118370096139\n",
            "\t confusion matrix :  [[ 3416   702    64    76   242]\n",
            " [  240 81818    88    52   130]\n",
            " [  140   402  1376    36    60]\n",
            " [  212   966     6  4094   102]\n",
            " [  256   306    18    26  3344]]\n",
            "Epoch #1\n",
            "Training..\n",
            "Training loss:  0.03984164805749727\n",
            "Training metrics:\n",
            "\t accuracy :  0.9884731187027708\n",
            "\t f1 :  [0.92838063 0.99665029 0.9231791  0.97894926 0.94163753]\n",
            "\t average f1 :  0.9537593604222618\n",
            "\t confusion matrix :  [[  9210    309    104     81    300]\n",
            " [   205 168850     89     80     58]\n",
            " [   111    198   4170     24     85]\n",
            " [    68     91     15  10882     57]\n",
            " [   243    105     68     52   7809]]\n",
            "Validating..\n",
            "Validation loss:  0.1723222864723842\n",
            "Validation metrics:\n",
            "\t accuracy :  0.9559752271523448\n",
            "\t f1 :  [0.77055638 0.98090074 0.79157895 0.82667782 0.85931746]\n",
            "\t average f1 :  0.8458062667689881\n",
            "\t confusion matrix :  [[ 3130   848    84    84   354]\n",
            " [  174 81762   156    84   152]\n",
            " [   38   400  1504    32    40]\n",
            " [  174  1092    10  3954   150]\n",
            " [  108   278    32    32  3500]]\n",
            "Epoch #2\n",
            "Training..\n",
            "Training loss:  0.028508199971188\n",
            "Training metrics:\n",
            "\t accuracy :  0.9915430179471033\n",
            "\t f1 :  [0.95048108 0.99700989 0.95315593 0.98215251 0.96267758]\n",
            "\t average f1 :  0.9690953987576922\n",
            "\t confusion matrix :  [[  9434    256     61     47    205]\n",
            " [   169 168885     78    100     56]\n",
            " [    56    137   4334     12     47]\n",
            " [    49    128      6  10896     27]\n",
            " [   140     89     29     27   7996]]\n",
            "Validating..\n",
            "Validation loss:  0.18131306549184956\n",
            "Validation metrics:\n",
            "\t accuracy :  0.9550788412174551\n",
            "\t f1 :  [0.78704798 0.97982302 0.80456026 0.79862749 0.86624204]\n",
            "\t average f1 :  0.8472601576722623\n",
            "\t confusion matrix :  [[ 3330   782    62    80   246]\n",
            " [  200 81826    94    58   150]\n",
            " [   62   386  1482    44    40]\n",
            " [  174  1414     4  3724    64]\n",
            " [  196   286    28    40  3400]]\n",
            "Epoch #3\n",
            "Training..\n",
            "Training loss:  0.02758865133549558\n",
            "Training metrics:\n",
            "\t accuracy :  0.9914151054785895\n",
            "\t f1 :  [0.9553724  0.99657021 0.95501045 0.97905003 0.96583308]\n",
            "\t average f1 :  0.9703672331832488\n",
            "\t confusion matrix :  [[  9505    259     52     35    164]\n",
            " [   179 168817     84    132     65]\n",
            " [    53    144   4341     11     35]\n",
            " [    33    188      8  10842     32]\n",
            " [   113    111     22     25   8014]]\n",
            "Validating..\n",
            "Validation loss:  0.16679999690920036\n",
            "Validation metrics:\n",
            "\t accuracy :  0.9590922055168479\n",
            "\t f1 :  [0.80018939 0.98154902 0.8089276  0.83927839 0.87129224]\n",
            "\t average f1 :  0.8602473282004317\n",
            "\t confusion matrix :  [[ 3380   716    60   110   234]\n",
            " [  220 81818    82    90   118]\n",
            " [   60   404  1486    36    28]\n",
            " [  128  1108     4  4094    46]\n",
            " [  160   338    28    46  3378]]\n",
            "Epoch #4\n",
            "Training..\n",
            "Training loss:  0.023029219528064318\n",
            "Training metrics:\n",
            "\t accuracy :  0.9929549748110831\n",
            "\t f1 :  [0.96096066 0.99738179 0.96359036 0.98400108 0.96896885]\n",
            "\t average f1 :  0.9749805484860772\n",
            "\t confusion matrix :  [[  9563    207     36     52    149]\n",
            " [   138 168947     62     79     55]\n",
            " [    38    122   4380     14     32]\n",
            " [    46    116      8  10917     20]\n",
            " [   111    108     19     20   8025]]\n",
            "Validating..\n",
            "Validation loss:  0.1880753988904568\n",
            "Validation metrics:\n",
            "\t accuracy :  0.9550992136250662\n",
            "\t f1 :  [0.75093757 0.98233071 0.8019802  0.78716948 0.87922957]\n",
            "\t average f1 :  0.8403295066798409\n",
            "\t confusion matrix :  [[ 3404   784    58    68   186]\n",
            " [  252 81892    72    68    44]\n",
            " [   92   384  1458    44    36]\n",
            " [  646  1010     2  3632    90]\n",
            " [  172   332    32    36  3378]]\n",
            "Done!\n"
          ]
        }
      ],
      "source": [
        "## TODO: Run again with window size 1\n",
        "## Keep other hyperparameters fixed\n",
        "train_val_loop_ffnn(\n",
        "    {\n",
        "        \"batch_size\": 512,\n",
        "        \"d_emb\": 64,\n",
        "        \"d_hidden\": 128,\n",
        "        \"window_size\": 1,\n",
        "        \"num_epochs\": 5,\n",
        "        \"learning_rate\": 0.01,\n",
        "        \"l2\": 1e-6,\n",
        "    }\n",
        ")\n",
        "## END"
      ]
    },
    {
      "cell_type": "markdown",
      "metadata": {
        "id": "rGgA0zExVtg9"
      },
      "source": [
        "### Question **(1 point)**\n",
        "\n",
        "If everything works as expected, you should see the loss decrease and the accuracy increase for both training and validation. The final accuracy can be pretty high; you should probably debug if it's below 92%. However, **is accuracy a good metric for this problem? Why?**. Hint: look at the F1 scores for different tags and the confusion matrix.\n",
        "\n",
        "**Answer:**\n",
        "Accuracy alone might not be enough to evaluate our model. It doesn't account for situations where some classes are much more common than others. If the dataset is imbalanced, the model could still get a high accuracy by just focusing on the majority class and ignoring the minority ones.\n",
        "\n",
        "F1 score, on the other hand, considers both precision and recall, which makes it better for imbalanced datasets. Looking at the F1 scores for each tag and the confusion matrix can show us how well the model is doing for each specific tag and help us spot any issues, like if certain classes are consistently being misclassified.\n",
        "\n",
        "So, while accuracy is helpful, we should use F1 score alongside it to make sure our model is working as expected.\n"
      ]
    }
  ],
  "metadata": {
    "accelerator": "GPU",
    "colab": {
      "provenance": []
    },
    "kernelspec": {
      "display_name": "Python 3",
      "name": "python3"
    }
  },
  "nbformat": 4,
  "nbformat_minor": 0
}